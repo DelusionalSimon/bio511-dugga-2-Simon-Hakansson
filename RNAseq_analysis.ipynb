{
 "cells": [
  {
   "cell_type": "code",
   "execution_count": null,
   "id": "4490340c",
   "metadata": {},
   "outputs": [],
   "source": [
    "# Library imports\n",
    "import csv\n",
    "import pandas as pd\n",
    "import matplotlib.pyplot as plt"
   ]
  },
  {
   "cell_type": "code",
   "execution_count": null,
   "id": "ba7c25e8",
   "metadata": {},
   "outputs": [],
   "source": [
    "# Absolute variables\n",
    "\n",
    "CSV_PATH = \"inputs/brca_head500_genes.csv\"\n"
   ]
  },
  {
   "cell_type": "code",
   "execution_count": null,
   "id": "6a755980",
   "metadata": {},
   "outputs": [],
   "source": [
    "\n",
    "# Use pandas for importing CSV\n",
    "RNAdf = pd.read_csv(CSV_PATH)\n",
    "\n",
    "# Check that it worked\n",
    "print(RNAdf.head())"
   ]
  }
 ],
 "metadata": {
  "kernelspec": {
   "display_name": "dugga_env",
   "language": "python",
   "name": "python3"
  },
  "language_info": {
   "codemirror_mode": {
    "name": "ipython",
    "version": 3
   },
   "file_extension": ".py",
   "mimetype": "text/x-python",
   "name": "python",
   "nbconvert_exporter": "python",
   "pygments_lexer": "ipython3",
   "version": "3.11.13"
  }
 },
 "nbformat": 4,
 "nbformat_minor": 5
}
