{
 "cells": [
  {
   "cell_type": "code",
   "execution_count": null,
   "id": "4490340c",
   "metadata": {},
   "outputs": [],
   "source": [
    "# Library imports\n",
    "import csv\n",
    "import pandas as pd\n",
    "import matplotlib.pyplot as plt\n",
    "import seaborn as sns"
   ]
  },
  {
   "cell_type": "code",
   "execution_count": null,
   "id": "ba7c25e8",
   "metadata": {},
   "outputs": [],
   "source": [
    "# Absolute variables\n",
    "\n",
    "CSV_PATH = \"inputs/brca_head500_genes.csv\"\n"
   ]
  },
  {
   "cell_type": "code",
   "execution_count": null,
   "id": "6a755980",
   "metadata": {},
   "outputs": [],
   "source": [
    "\n",
    "# Use pandas for importing CSV\n",
    "RNAdf = pd.read_csv(CSV_PATH)\n",
    "\n",
    "# Check that it worked\n",
    "print(RNAdf.head())"
   ]
  },
  {
   "cell_type": "code",
   "execution_count": null,
   "id": "4ccba174",
   "metadata": {},
   "outputs": [],
   "source": [
    "def plotDistribution(data):\n",
    "    distributionPlot = sns.histplot(data,x='fpkm_log2')\n",
    "    plt.title(\"Distribution of gene Expression\")\n",
    "    plt.xlabel(\"Expression\")\n",
    "    plt.ylabel(\"Number of genes\")\n",
    "    distributionPlot.figure.savefig('fpkm_distribution.png', dpi=300)\n",
    "\n",
    "# Run Function\n",
    "plotDistribution(RNAdf)"
   ]
  }
 ],
 "metadata": {
  "kernelspec": {
   "display_name": "dugga_env",
   "language": "python",
   "name": "python3"
  },
  "language_info": {
   "codemirror_mode": {
    "name": "ipython",
    "version": 3
   },
   "file_extension": ".py",
   "mimetype": "text/x-python",
   "name": "python",
   "nbconvert_exporter": "python",
   "pygments_lexer": "ipython3",
   "version": "3.11.13"
  }
 },
 "nbformat": 4,
 "nbformat_minor": 5
}
